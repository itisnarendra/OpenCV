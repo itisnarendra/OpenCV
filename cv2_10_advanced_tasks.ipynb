{
 "cells": [
  {
   "cell_type": "markdown",
   "id": "875b25c3",
   "metadata": {},
   "source": []
  },
  {
   "cell_type": "code",
   "execution_count": null,
   "id": "80f9d36e",
   "metadata": {},
   "outputs": [],
   "source": [
    "#import the necessary libraries\n",
    "import cv2\n",
    "import numpy as np\n",
    "from matplotlib import pyplot as plt\n",
    "%matplotlib inline"
   ]
  },
  {
   "cell_type": "markdown",
   "id": "b082a6db",
   "metadata": {},
   "source": [
    "\n",
    "OpenCV is able to read and write the following image format:\n",
    "- jpeg/jpg\n",
    "- png\n",
    "- bmp\n",
    "- tiff/tif\n",
    "- ppm/pgm/pbm\n",
    "\n",
    "Other formats (GIF, WebP, HDR, JPEG200, SVG, RAW, ) can be read with other image manipulation \n",
    "package (pillow, ) and the resulting data can be converted to opencv internal format\n"
   ]
  },
  {
   "cell_type": "markdown",
   "id": "ada94fd7",
   "metadata": {},
   "source": []
  },
  {
   "cell_type": "code",
   "execution_count": null,
   "id": "efbf241a",
   "metadata": {},
   "outputs": [],
   "source": [
    "# Load the image\n",
    "img = cv2.imread('images//stage.png')\n",
    "# Check if the image is loaded properly\n",
    "if img is None:\n",
    "    raise ValueError(\"Image not found or unable to load.\")\n",
    "# Print image properties\n",
    "print(f'Image shape: {img.shape}')  # (height, width, channels)\n",
    "\n",
    "print(f'Image data type: {img.dtype}')  # e.g., uint8\n",
    "\n",
    "# Print the number of channels\n",
    "num_channels = img.shape[2] if len(img.shape) == 3 else 1\n",
    "print(f'Number of channels: {num_channels}')\n",
    "\n",
    "# Display the original image\n",
    "plt.figure(figsize=(10, 6))\n",
    "# Convert BGR to RGB for correct color representation in matplotlib\n",
    "img = cv2.cvtColor(img, cv2.COLOR_BGR2RGB)\n",
    "# Display the image\n",
    "plt.imshow(img)\n",
    "# Set the title and remove axes\n",
    "plt.title('Original Image')\n",
    "plt.axis('off')\n",
    "plt.show()"
   ]
  },
  {
   "cell_type": "code",
   "execution_count": null,
   "id": "6aeffffd",
   "metadata": {},
   "outputs": [],
   "source": [
    "# create a random image\n",
    "\n",
    "#make an array of 120,000 items using numpy\n",
    "random_array = np.random.randint(0, 256, size=120_000, dtype=np.uint8)\n",
    "\n",
    "#convert the array to a 400 x 300 grayscale image\n",
    "img_grayscale = random_array.reshape(400, 300)\n",
    "\n",
    "#convert the grayscale image to a 3-channel BGR image\n",
    "img_bgr = cv2.cvtColor(img_grayscale, cv2.COLOR_GRAY2RGB)\n",
    "#display the image\n",
    "plt.imshow(img_bgr)\n",
    "plt.axis('off')  # Hide axes\n",
    "plt.show()\n"
   ]
  },
  {
   "cell_type": "code",
   "execution_count": null,
   "id": "f9a86b88",
   "metadata": {},
   "outputs": [],
   "source": [
    "#convert the array to a 400 x 100 x 3 color image\n",
    "img_color = random_array.reshape(100, 400, 3)\n",
    "\n",
    "#convert the 3-channel to RGB image\n",
    "img_color = cv2.cvtColor(img_color, cv2.COLOR_BGR2RGB)\n",
    "#display the image\n",
    "plt.imshow(img_color)\n",
    "plt.axis('off')  # Hide axes\n",
    "plt.show()"
   ]
  },
  {
   "cell_type": "markdown",
   "id": "920b8f13",
   "metadata": {},
   "source": [
    "OpenCV is able to write the following image formats:\n",
    "- png\n",
    "- jpg"
   ]
  }
 ],
 "metadata": {
  "kernelspec": {
   "display_name": "Python 3",
   "language": "python",
   "name": "python3"
  },
  "language_info": {
   "codemirror_mode": {
    "name": "ipython",
    "version": 3
   },
   "file_extension": ".py",
   "mimetype": "text/x-python",
   "name": "python",
   "nbconvert_exporter": "python",
   "pygments_lexer": "ipython3",
   "version": "3.13.2"
  }
 },
 "nbformat": 4,
 "nbformat_minor": 5
}

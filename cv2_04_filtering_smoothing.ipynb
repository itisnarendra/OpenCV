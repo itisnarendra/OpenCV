{
 "cells": [
  {
   "cell_type": "markdown",
   "id": "9a89356f",
   "metadata": {},
   "source": [
    "The procedure to achieve a pencil sketch from an RGB color image:\n",
    "1. Convert the color image to grayscale.\n",
    "2. Invert the grayscale image to get a negative.\n",
    "3. Apply a Gaussian blur to the negative from step 2.\n",
    "4. Blend the grayscale image from step 1 with the blurred negative from step 3 using a color dodge."
   ]
  },
  {
   "cell_type": "code",
   "execution_count": null,
   "id": "d482339f",
   "metadata": {},
   "outputs": [],
   "source": [
    "#import the necessary libraries\n",
    "import cv2\n",
    "import numpy as np\n",
    "from matplotlib import pyplot as plt\n",
    "%matplotlib inline\n",
    "\n",
    "\n",
    "def show_gray_image(image, title=\"Gray Image\"):\n",
    "    \"\"\"\n",
    "    Display an opencv grayscale image (BGR) using matplotlib.\n",
    "    \n",
    "    Parameters:\n",
    "    - image: The grayscale image to display.\n",
    "    - title: The title of the plot.\n",
    "    \"\"\"\n",
    "    plt.imshow(cv2.cvtColor(image, cv2.COLOR_GRAY2RGB))\n",
    "    plt.title(title)\n",
    "    plt.axis('off')  # Hide axes\n",
    "    plt.show()\n",
    "\n",
    "def show_bgr_image(image, title=\"BGR Image\"):\n",
    "    \"\"\"\n",
    "    Display a color opencv image (BGR) using matplotlib.\n",
    "    \n",
    "    Parameters:\n",
    "    - image: The BGR image to display.\n",
    "    - title: The title of the plot.\n",
    "    \"\"\"\n",
    "    plt.imshow(cv2.cvtColor(image, cv2.COLOR_BGR2RGB))\n",
    "    plt.title(title)\n",
    "    plt.axis('off')  # Hide axes\n",
    "    plt.show()"
   ]
  },
  {
   "cell_type": "code",
   "execution_count": null,
   "id": "2446a1e7",
   "metadata": {},
   "outputs": [],
   "source": [
    "#read the color image\n",
    "file = r'images\\stage.png'\n",
    "img = cv2.imread(file)\n",
    "\n",
    "# display the image\n",
    "show_bgr_image(img, \"Original BGR Image\")\n"
   ]
  },
  {
   "cell_type": "code",
   "execution_count": null,
   "id": "1f2ca934",
   "metadata": {},
   "outputs": [],
   "source": [
    "#convert the image to grayscale\n",
    "img_gray = cv2.cvtColor(img, cv2.COLOR_BGR2GRAY)\n",
    "\n",
    "# display the image\n",
    "show_gray_image(img_gray, \"Grayscale Image\")"
   ]
  },
  {
   "cell_type": "code",
   "execution_count": null,
   "id": "8b4be5dd",
   "metadata": {},
   "outputs": [],
   "source": [
    "#invert the image\n",
    "img_gray_inv = cv2.bitwise_not(img_gray)\n",
    "\n",
    "# display the inverted image\n",
    "show_gray_image(img_gray_inv, \"Inverted Grayscale Image\")"
   ]
  },
  {
   "cell_type": "code",
   "execution_count": null,
   "id": "1ef88dd3",
   "metadata": {},
   "outputs": [],
   "source": [
    "#apply Gaussian blur to the inverted image\n",
    "img_blur = cv2.GaussianBlur(img_gray_inv, (21, 21), 0, 0)\n",
    "\n",
    "# display the blurred image\n",
    "show_gray_image(img_blur, \"Blurred Inverted Grayscale Image\")\n"
   ]
  },
  {
   "cell_type": "code",
   "execution_count": null,
   "id": "6a6e151a",
   "metadata": {},
   "outputs": [],
   "source": [
    "# blend the blurred image with the inverted grayscale image\n",
    "img_blend = cv2.divide(img_blur, img_gray_inv, scale=256)    \n",
    "\n",
    "#display the resulting image\n",
    "show_gray_image(img_blend, \"Blended Image\")"
   ]
  },
  {
   "cell_type": "code",
   "execution_count": null,
   "id": "2ee9efd2",
   "metadata": {},
   "outputs": [],
   "source": [
    "#invert the blended image \n",
    "img_blend_inv = cv2.bitwise_not(img_blend)\n",
    "\n",
    "print(img_blend_inv.shape)\n",
    "# display the image\n",
    "show_gray_image(img_blend_inv, \"Inverted Blended Image\")"
   ]
  },
  {
   "cell_type": "code",
   "execution_count": null,
   "id": "8a06dd9b",
   "metadata": {},
   "outputs": [],
   "source": [
    "#apply a blueish tint to the image\n",
    "\n",
    "#create a numpy array with the same shape as the image\n",
    "img_blue_tint = np.zeros((img_blend_inv.shape[0], img_blend_inv.shape[1], 3), dtype=np.float32)\n",
    "print(img_blue_tint.shape)\n",
    "img_blue_tint[:, :, 0] = img_blend_inv * 0.1\n",
    "img_blue_tint[:, :, 1] = img_blend_inv * 1.0\n",
    "img_blue_tint[:, :, 2] = img_blend_inv * 1.0\n",
    "\n",
    "# display the resulting image\n",
    "show_bgr_image(img_blue_tint.astype(np.uint8), \"Blue Tint Image\")\n"
   ]
  },
  {
   "cell_type": "code",
   "execution_count": null,
   "id": "03b0460f",
   "metadata": {},
   "outputs": [],
   "source": [
    "#invert the blue tint image\n",
    "img_blue_tint_inv = cv2.bitwise_not(img_blue_tint)\n",
    "\n",
    "# constrain the values to be in the range [0, 255]\n",
    "img_blue_tint_inv = np.clip(img_blue_tint_inv, 0, 255)\n",
    "\n",
    "#display the inverted blue tint image\n",
    "# show_bgr_image(img_blue_tint_inv.astype(np.uint8), \"Inverted Blue Tint Image\")\n",
    "show_bgr_image(img_blue_tint_inv, \"Inverted Blue Tint Image\")"
   ]
  },
  {
   "cell_type": "code",
   "execution_count": null,
   "id": "707d4d18",
   "metadata": {},
   "outputs": [],
   "source": [
    "# import cv2\n",
    "# import numpy as np\n",
    "\n",
    "# Load grayscale image\n",
    "gray_img = cv2.imread(file, cv2.IMREAD_GRAYSCALE)\n",
    "\n",
    "# Convert to 3-channel BGR (all channels equal initially)\n",
    "color_img = cv2.cvtColor(gray_img, cv2.COLOR_GRAY2BGR)\n",
    "\n",
    "# Boost the blue channel (values between 1.0-2.0 work well)\n",
    "blue_tint_factor = 3.5  # Adjust this for stronger/weaker tint\n",
    "color_img[:, :, 0] = np.clip(color_img[:, :, 0] * blue_tint_factor, 0, 255)\n",
    "\n",
    "# Display the result (convert to RGB for matplotlib)\n",
    "plt.imshow(cv2.cvtColor(color_img, cv2.COLOR_BGR2RGB))\n",
    "plt.axis('off')\n",
    "plt.show()"
   ]
  },
  {
   "cell_type": "code",
   "execution_count": null,
   "id": "e1962376",
   "metadata": {},
   "outputs": [],
   "source": [
    "# Load grayscale image\n",
    "gray_img = cv2.imread(file, cv2.IMREAD_GRAYSCALE)\n",
    "\n",
    "\n",
    "# Create a blue-tinted version\n",
    "blue_tint = np.zeros((gray_img.shape[0], gray_img.shape[1], 3), dtype=np.uint8)\n",
    "blue_tint[:, :, 0] = gray_img  # Blue channel\n",
    "blue_tint[:, :, 1] = gray_img * 0.52  # Green channel (reduced)\n",
    "blue_tint[:, :, 2] = gray_img * 0.52  # Red channel (reduced)\n",
    "\n",
    "# Display\n",
    "plt.imshow(cv2.cvtColor(blue_tint, cv2.COLOR_BGR2RGB))\n",
    "plt.axis('off')\n",
    "plt.show()"
   ]
  },
  {
   "cell_type": "code",
   "execution_count": null,
   "id": "5d934dc4",
   "metadata": {},
   "outputs": [],
   "source": [
    "gray_img = cv2.imread(file, cv2.IMREAD_GRAYSCALE)\n",
    "\n",
    "# Create lookup tables for each channel\n",
    "blue_curve = np.arange(256, dtype=np.uint8)\n",
    "green_curve = np.clip(np.arange(256) * 0.4, 0, 255).astype(np.uint8)\n",
    "red_curve = np.clip(np.arange(256) * 0.4, 0, 255).astype(np.uint8)\n",
    "\n",
    "# Apply curves\n",
    "blue_channel = cv2.LUT(gray_img, blue_curve)\n",
    "green_channel = cv2.LUT(gray_img, green_curve)\n",
    "red_channel = cv2.LUT(gray_img, red_curve)\n",
    "\n",
    "# Merge channels\n",
    "blue_tint = cv2.merge([blue_channel, green_channel, red_channel])\n",
    "\n",
    "# Display\n",
    "plt.imshow(cv2.cvtColor(blue_tint, cv2.COLOR_BGR2RGB))\n",
    "plt.axis('off')\n",
    "plt.show()"
   ]
  }
 ],
 "metadata": {
  "kernelspec": {
   "display_name": "Python 3",
   "language": "python",
   "name": "python3"
  },
  "language_info": {
   "codemirror_mode": {
    "name": "ipython",
    "version": 3
   },
   "file_extension": ".py",
   "mimetype": "text/x-python",
   "name": "python",
   "nbconvert_exporter": "python",
   "pygments_lexer": "ipython3",
   "version": "3.13.2"
  }
 },
 "nbformat": 4,
 "nbformat_minor": 5
}

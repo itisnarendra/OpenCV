{
 "cells": [
  {
   "cell_type": "markdown",
   "id": "71618500",
   "metadata": {},
   "source": [
    "In this section we will cover some basic tasks that is crucial for the later more advanced tasks.\n",
    "## Preliminary Concepts\n",
    "### Contents\n",
    "1. [Install](#installation) the necessary libraries \n",
    "1. [Import](#import) the libraries\n",
    "1. Matplotlib\n",
    "1. [Read](#read) an image file  \n",
    "1. [Display](#display) the resulting file  \n",
    "1. [Save](#save) the image file   "
   ]
  },
  {
   "cell_type": "markdown",
   "id": "a023553a",
   "metadata": {},
   "source": [
    "#### Module vs. Library vs. Framework\n",
    "\n",
    "##### Module\n",
    "-   Smallest unit of code organization in Python\n",
    "-   A single Python file that contains function, classes, or variables.\n",
    "    -   `math` for access to mathematical functions.\n",
    "    -   `random` for access to ramdom related functions.\n",
    "    -   `os` for interacting with the operating system.\n",
    "    -   `sys` to access system-specific parameters and functions.\n",
    "\n",
    "#### Package\n",
    "-   A package is a directory that contains multiple modules and an `__init__.py` file (which can be empty or contain initialization code).   \n",
    "\n",
    "##### Library\n",
    "-   A collection of modules that provide related functionality\n",
    "-   It is a bundle of modules designed to solve specific problesm or add features\n",
    "    -   `beautifulsoup` for HTML and XML parsing in web scraping.\n",
    "    -   `spaCy` for natural language processing\n",
    "    -   `selenium` for testing web apps\n",
    "    -   `pandas` for data manipulation\n",
    "    -   `requests` for HTTP requests\n",
    "\n",
    "##### Framework\n",
    "-   This is a much larger structure that provides a fundation for building applications\n",
    "-   It is a complete architecture with predefined rules and patterns\n",
    "-   You build your code within the framework's structure\n",
    "-   It oftwen includes libraries and modules\n",
    "    -   `django` for web development\n",
    "    -   `flask` (micro-framework) for web apps.\n",
    "    -   `FastAPI` for building APIs quickly   \n",
    "\n",
    "| Term      | Scope                      | Contains                |  Example       | Purpose                       |\n",
    "|-----------|----------------------------|-------------------------|----------------|-------------------------------|\n",
    "| Module    | Single .py file            | Function, class         |  `math`        | Reusable code unit            |\n",
    "| Psckage   | Folder with `__init__.py`  | Multiple modules        |  `os`, `email` | Organised module collection   |\n",
    "| Library   | Collection of modules      | Module & packages       |  `NumPy`       | Adds specialized functionality|\n",
    "| Framework | Full application structure | Libraries & conventions |  `Django`      | Guides entire app development |"
   ]
  },
  {
   "cell_type": "markdown",
   "id": "de5fc0b8",
   "metadata": {},
   "source": [
    "### <a id='install'></a>Install the necessary libraries\n",
    "We will be using the following Python libraries\n",
    "-   `opencv` computer vision, image progessing, and machine learning\n",
    "-   `numpy` for numerical computing\n",
    "-   `matplotlib` to create static, animated and interactive visualization \n",
    "\n",
    "\n",
    "The best way of managing your Python libraries of frameworks is by using the *Python Installer Package* (`pip`). This simplifies installation, removal, and updating of any software that you might want to use."
   ]
  },
  {
   "cell_type": "markdown",
   "id": "4a9fe808",
   "metadata": {},
   "source": [
    "The method of installation wil depend on how you are accessing Python: on your **personal pc** or a cloud platform like **google colab**\n",
    "#### Personal computer   \n",
    "If you do lots of Python coding and do not want to polute you current work environment you may create a virtual environment    \n",
    "Run the following commands to install the required software:   \n",
    "`pip install opencv-python numpy matplotlib`\n",
    "\n",
    "#### Cloud machine   \n",
    "The is very convenient and is available if you have a gmail account. Login into your gmail and in another tab, go the url `colab.google`   \n",
    "On colab, the software is already installed, however if it is not, use the following command in a cell:\n",
    "`!pip install opencv-python numpy matplotlib`"
   ]
  },
  {
   "cell_type": "code",
   "execution_count": null,
   "id": "43a0e5a8",
   "metadata": {},
   "outputs": [],
   "source": [
    "# installing opencv, numpy and matplotlib\n",
    "# these are the main libraries that we will use throughout the workshop\n",
    "# uncomment the line below to install the libraries if you have not done so already\n",
    "# !pip install opencv-python numpy matplotlib"
   ]
  },
  {
   "cell_type": "markdown",
   "id": "da284475",
   "metadata": {},
   "source": [
    "### <a id='import'></a>Import the necessary libraries\n",
    "Once the libraries have been installed by pip, you will have access to them.   \n",
    "The import statement has many forms:\n",
    "\n",
    "#### A module that was written by you and not installed\n",
    "```python\n",
    "import narendra_module\n",
    "```   \n",
    "Note the following:   \n",
    "-   The Python file is call `narendra_module.py`. \n",
    "-   The `.py` extension is omitted.\n",
    "-   The file is located in the current folder\n",
    "\n",
    "#### A module that was installed\n",
    "```python\n",
    "import installed_module1, installed_module2\n",
    "```\n",
    "-   This works regardless of your currently working directly   \n",
    "\n",
    "#### Importing only some functions\n",
    "```python\n",
    "from math import pi, sin\n",
    "```    \n",
    "-   This is the preferred way because it does not polute your environment.\n",
    "\n",
    "#### Using an alias\n",
    "```python\n",
    "import numpy as np\n",
    "import matplotlib.pyplot as plt\n",
    "```\n",
    "-   The simplifies writing the original (often quite long) name of the module\n",
    "-   You ca replace a newer version of the library by using the same alias and your code does not have to change\n",
    "\n",
    "#### Combining the last two\n"
   ]
  },
  {
   "cell_type": "code",
   "execution_count": null,
   "id": "6c11e41c",
   "metadata": {},
   "outputs": [],
   "source": [
    "# importing the libraries\n",
    "# here an alias is used for easier access\n",
    "import cv2\n",
    "import numpy as np\n",
    "import matplotlib.pyplot as plt"
   ]
  },
  {
   "cell_type": "markdown",
   "id": "d37505f7",
   "metadata": {},
   "source": [
    "### <a id='read'></a>Reading an image from a file    \n",
    "Reading an image is probable the most common way of obtaining an image.  \n",
    "\n",
    "#### Syntax:\n",
    "```\n",
    "img = cv2.imread(<<pathname of file>>, [<<ImreadMode>>])\n",
    "pathname of file -> this is the relative or full pathname of the image file\n",
    "\n",
    "image_file is a file of the following image format:\n",
    "    Windows bitmaps - *.bmp, *.dib (always supported)\n",
    "    GIF files - *.gif (always supported)\n",
    "    JPEG files - *.jpeg, *.jpg, *.jpe \n",
    "    JPEG 2000 files - *.jp2 \n",
    "    Portable Network Graphics - *.png \n",
    "    WebP - *.webp \n",
    "    AVIF - *.avif \n",
    "    Portable image format - *.pbm, *.pgm, *.ppm, *.pxm, *.pnm (always supported)\n",
    "    PFM files - *.pfm \n",
    "    Sun rasters - *.sr, *.ras (always supported)\n",
    "    TIFF files - *.tiff, *.tif \n",
    "    OpenEXR Image files - *.exr \n",
    "    Radiance HDR - *.hdr, *.pic (always supported)\n",
    "    Raster and Vector geospatial data supported by GDAL \n",
    "\n",
    "ImreadModes : \n",
    "    IMREAD_UNCHANGED = -1,\n",
    "    IMREAD_GRAYSCALE = 0,\n",
    "    IMREAD_COLOR = 1,\n",
    "    IMREAD_ANYDEPTH = 2,\n",
    "    IMREAD_ANYCOLOR = 4,\n",
    "    IMREAD_LOAD_GDAL = 8,\n",
    "    IMREAD_REDUCED_GRAYSCALE_2 = 16,\n",
    "    IMREAD_REDUCED_COLOR_2 = 17,\n",
    "    IMREAD_REDUCED_GRAYSCALE_4 = 32,\n",
    "    IMREAD_REDUCED_COLOR_4 = 33,\n",
    "    IMREAD_REDUCED_GRAYSCALE_8 = 64,\n",
    "    IMREAD_REDUCED_COLOR_8 = 65 \n",
    "```\n",
    "OpenCV default color space is `BGR` (not the common `RGB`)"
   ]
  },
  {
   "cell_type": "code",
   "execution_count": null,
   "id": "3c894d73",
   "metadata": {},
   "outputs": [],
   "source": [
    "img = cv2.imread('images\\\\stage.png' )\n",
    "if img is None:\n",
    "    print(\"Error: Could not read the image.\")"
   ]
  },
  {
   "cell_type": "markdown",
   "id": "45453519",
   "metadata": {},
   "source": [
    "### <a id='display'></a>Displaying information about image    \n",
    "Some critical information about the image includes the type and shape"
   ]
  },
  {
   "cell_type": "code",
   "execution_count": null,
   "id": "f89cf9c3",
   "metadata": {},
   "outputs": [],
   "source": [
    "print(type(img))               # <class 'numpy.ndarray'>      \n",
    "print(img.shape)               # e.g., (height, width, channels)      \n",
    "print(img.dtype)               # e.g., uint8  "
   ]
  },
  {
   "cell_type": "markdown",
   "id": "7e14039a",
   "metadata": {},
   "source": [
    "Essentially there are two ways of displaying an image: Using Matplotlib and OpenCV, for now we will use the former\n",
    "Reading an image is probable the most common way of obtaining an image."
   ]
  },
  {
   "cell_type": "code",
   "execution_count": null,
   "id": "95e869cb",
   "metadata": {},
   "outputs": [],
   "source": [
    "# now to display the image using matplotlib\n",
    "# note that OpenCV reads the image in BGR format while matplotlib expects RGB format\n",
    "# img = cv2.cvtColor(img, cv2.COLOR_BGR2RGB)\n",
    "plt.imshow(img)\n",
    "plt.axis('off')  # Hide axiss\n",
    "plt.show()"
   ]
  },
  {
   "cell_type": "markdown",
   "id": "00ac2ea5",
   "metadata": {},
   "source": [
    "# now to display the image using matplotlib\n",
    "# note that OpenCV reads the image in BGR format while matplotlib expects RGB format\n",
    "# img = cv2.cvtColor(img, cv2.COLOR_BGR2RGB)\n",
    "plt.imshow(img)\n",
    "plt.axis('off')  # Hide axiss\n",
    "plt.show()"
   ]
  },
  {
   "cell_type": "markdown",
   "id": "e67adead",
   "metadata": {},
   "source": [
    "### Matplotlib\n",
    "-   Matplotlib is a plotting and visualization library   \n",
    "-   It's commonly used to display the results of OpenCV operations   \n",
    "-   Uses RGB (Red-Green-Blue) color format by default (more about this later) \n",
    "\n",
    "\n",
    "### Common Use Cases Together:\n",
    "-   **Displaying Images**: After processing an image with OpenCV, you can use Matplotlib to visualize it:\n",
    "-   **Comparing Before/After**: Matplotlib's subplot functionality is great for showing original vs. processed images side-by-side\n",
    "-   **Visualizing Histograms**: Displaying color distributions or intensity histograms of images\n",
    "-   **Plotting Detection Results**: Overlaying bounding boxes, contours, or keypoints on images\n",
    "\n",
    "#### Key Difference to Remember:\n",
    "The main gotcha is the color channel ordering - OpenCV uses BGR while Matplotlib expects RGB, so you often need to convert between them using `cv2.cvtColor()` for colors to display correctly."
   ]
  },
  {
   "cell_type": "code",
   "execution_count": null,
   "id": "d763924f",
   "metadata": {},
   "outputs": [],
   "source": [
    "y = [1, 8, 3, 5, 2, 7, 4, 6]\n",
    "plt.plot(y)\n",
    "plt.show()"
   ]
  },
  {
   "cell_type": "code",
   "execution_count": null,
   "id": "6f80c628",
   "metadata": {},
   "outputs": [],
   "source": [
    "y = [1, 8, 3, 5, 2, 7, 4, 6]\n",
    "z = [2, 7, 4, 6, 3, 7, 3, 7]\n",
    "plt.plot(y)\n",
    "plt.plot(z)\n",
    "plt.show()"
   ]
  },
  {
   "cell_type": "code",
   "execution_count": null,
   "id": "19225608",
   "metadata": {},
   "outputs": [],
   "source": [
    "import matplotlib.pyplot as plt\n",
    "from math import sin\n",
    "\n",
    "# Create sample data\n",
    "x = [x/10 for x in range(100)]\n",
    "y = [sin(a) for a in x]\n",
    "\n",
    "# Create a simple line plot\n",
    "plt.figure(figsize=(10, 6))\n",
    "plt.plot(x, y, 'b-', linewidth=2, label='sin(x)')\n",
    "plt.title('Sine Wave')\n",
    "plt.xlabel('X values')\n",
    "plt.ylabel('Y values')\n",
    "plt.grid(True, alpha=0.3)\n",
    "plt.legend()\n",
    "plt.show()"
   ]
  },
  {
   "cell_type": "code",
   "execution_count": null,
   "id": "28df692f",
   "metadata": {},
   "outputs": [],
   "source": [
    "import matplotlib.pyplot as plt\n",
    "from math import sin, cos, exp, pi\n",
    "\n",
    "# Create sample data\n",
    "x = [x/10 for x in range(100)]\n",
    "y1 = [sin(a) for a in x]\n",
    "y2 = [cos(a) for a in x]\n",
    "y3 = [sin(a) * cos(a) for a in x]\n",
    "\n",
    "plt.figure(figsize=(12, 6))\n",
    "plt.plot(x, y1, 'r-', label='sin(x)', linewidth=2)\n",
    "plt.plot(x, y2, 'g--', label='cos(x)', linewidth=2)\n",
    "plt.plot(x, y3, 'b:', label='sin(x)cos(x)', linewidth=2)\n",
    "plt.title('Trigonometric Functions')\n",
    "plt.xlabel('X')\n",
    "plt.ylabel('Y')\n",
    "plt.legend()\n",
    "plt.grid(True, alpha=0.3)\n",
    "plt.show()"
   ]
  },
  {
   "cell_type": "code",
   "execution_count": null,
   "id": "bded62f0",
   "metadata": {},
   "outputs": [],
   "source": [
    "import random\n",
    "random.seed(42)\n",
    "\n",
    "\n",
    "x = [random.uniform(0, 1) for _ in range(100)]\n",
    "y = [random.uniform(0, 1) for _ in range(100)]\n",
    "colors = [random.randint(0, 256) for _ in range(100)]\n",
    "sizes = [random.uniform(0, 1) * 100 for _ in range(100)]\n",
    "\n",
    "plt.figure(figsize=(10, 6))\n",
    "plt.scatter(x, y, c=colors, s=sizes, alpha=0.7, cmap='viridis')\n",
    "plt.colorbar(label='Color intensity')\n",
    "plt.title('Scatter Plot with Color and Size')\n",
    "plt.xlabel('X axis')\n",
    "plt.ylabel('Y axis')\n",
    "plt.show()\n"
   ]
  },
  {
   "cell_type": "code",
   "execution_count": null,
   "id": "bddef1b7",
   "metadata": {},
   "outputs": [],
   "source": [
    "# Bar chart example\n",
    "categories = ['A', 'B', 'C', 'D', 'E']\n",
    "values = [23, 45, 56, 12, 67]\n",
    "errors = [2, 3, 5, 1, 4]\n",
    "\n",
    "plt.figure(figsize=(10, 6))\n",
    "bars = plt.bar(categories, values, yerr=errors, capsize=5, \n",
    "               color=['red', 'blue', 'green', 'orange', 'purple'],\n",
    "               alpha=0.7)\n",
    "\n",
    "# Add value labels on bars\n",
    "for bar in bars:\n",
    "    height = bar.get_height()\n",
    "    plt.text(bar.get_x() + bar.get_width()/2., height + 1,\n",
    "             f'{height}', ha='center', va='bottom')\n",
    "\n",
    "plt.title('Bar Chart with Error Bars')\n",
    "plt.xlabel('Categories')\n",
    "plt.ylabel('Values')\n",
    "plt.show()"
   ]
  },
  {
   "cell_type": "code",
   "execution_count": null,
   "id": "8d4e3bda",
   "metadata": {},
   "outputs": [],
   "source": [
    "# Create multiple subplots\n",
    "fig, axes = plt.subplots(2, 2, figsize=(12, 10))\n",
    "\n",
    "# Plot 1: Line plot\n",
    "x = [x / 10 for x in range(100)]\n",
    "axes[0, 0].plot(x, [sin(a) for a in x], 'r-')\n",
    "axes[0, 0].set_title('Sine Wave')\n",
    "axes[0, 0].grid(True, alpha=0.3)\n",
    "\n",
    "# Plot 2: Scatter plot\n",
    "x_scatter = [random.uniform(0,1) for _ in range(50)]\n",
    "y_scatter = [random.uniform(0,1) for _ in range(50)]\n",
    "axes[0, 1].scatter(x_scatter, y_scatter, c=x_scatter, cmap='viridis')\n",
    "axes[0, 1].set_title('Scatter Plot')\n",
    "\n",
    "# Plot 3: Bar chart\n",
    "categories = ['A', 'B', 'C']\n",
    "values = [25, 40, 30]\n",
    "axes[1, 0].bar(categories, values, color=['red', 'blue', 'green'])\n",
    "axes[1, 0].set_title('Bar Chart')\n",
    "\n",
    "# Plot 4: Histogram\n",
    "data = [random.gauss(0, 1) for _ in range(1000)]\n",
    "axes[1, 1].hist(data, bins=20, alpha=0.7, color='orange', edgecolor='black')\n",
    "axes[1, 1].set_title('Histogram')\n",
    "\n",
    "plt.tight_layout()\n",
    "plt.show()"
   ]
  },
  {
   "cell_type": "code",
   "execution_count": null,
   "id": "a862cc45",
   "metadata": {},
   "outputs": [],
   "source": [
    "# More advanced customization\n",
    "x = np.linspace(0, 10, 100)\n",
    "y = np.exp(-x) * np.sin(2*np.pi*x)\n",
    "\n",
    "plt.figure(figsize=(12, 8))\n",
    "plt.plot(x, y, 'b-', linewidth=2, label='Damped oscillation')\n",
    "\n",
    "# Add annotations\n",
    "plt.annotate('First peak', xy=(0.25, 0.8), xytext=(1, 0.9),\n",
    "            arrowprops=dict(arrowstyle='->', connectionstyle='arc3,rad=0.2'),\n",
    "            fontsize=12)\n",
    "\n",
    "# Fill between curves\n",
    "plt.fill_between(x, y, 0, where=(y > 0), color='green', alpha=0.3)\n",
    "plt.fill_between(x, y, 0, where=(y < 0), color='red', alpha=0.3)\n",
    "\n",
    "plt.title('Damped Oscillation with Annotations', fontsize=14)\n",
    "plt.xlabel('Time', fontsize=12)\n",
    "plt.ylabel('Amplitude', fontsize=12)\n",
    "plt.legend(fontsize=12)\n",
    "plt.grid(True, alpha=0.3)\n",
    "plt.xlim(0, 10)\n",
    "plt.ylim(-1, 1)\n",
    "plt.show()"
   ]
  },
  {
   "cell_type": "code",
   "execution_count": null,
   "id": "8f664d32",
   "metadata": {},
   "outputs": [],
   "source": [
    "import matplotlib.pyplot as plt\n",
    "import numpy as np\n",
    "\n",
    "# Create sample data\n",
    "data = np.random.rand(10, 10)\n",
    "\n",
    "# Create the heatmap\n",
    "plt.imshow(data, cmap='hot', interpolation='nearest')\n",
    "plt.colorbar()  # Adds a color scale legend\n",
    "plt.title('Heatmap Example')\n",
    "plt.show()"
   ]
  },
  {
   "cell_type": "code",
   "execution_count": null,
   "id": "45ec39ed",
   "metadata": {},
   "outputs": [],
   "source": [
    "# importing the libraries\n",
    "# the last two uses an alias for easier access\n",
    "import cv2\n",
    "import numpy as np\n",
    "import matplotlib.pyplot as plt\n"
   ]
  },
  {
   "cell_type": "code",
   "execution_count": null,
   "id": "99db3262",
   "metadata": {},
   "outputs": [],
   "source": []
  },
  {
   "cell_type": "markdown",
   "id": "e04234fa",
   "metadata": {},
   "source": []
  },
  {
   "cell_type": "code",
   "execution_count": null,
   "id": "e4c592b1",
   "metadata": {},
   "outputs": [],
   "source": []
  },
  {
   "cell_type": "markdown",
   "id": "875b25c3",
   "metadata": {},
   "source": [
    "When we talk about an \"OpenCV image format,\" we're really talking about the way OpenCV represents image data in memory, not the file formats like PNG or JPEG.\n",
    "\n",
    "## Internal Image Representation in OpenCV\n",
    "OpenCV stores images as NumPy arrays, with these characteristics:\n",
    "\n",
    "### 1. Data Type & Shape\n",
    "```\n",
    "\n",
    "img = cv2.imread(<<image file>> <<, flags>>) -> returns a NumPy ndarray\n",
    "\n",
    "\n",
    "\n",
    "flags:\n",
    "cv2.IMREAD_COLOR (default) - reads as BGR, discards alpha\n",
    "cv2.IMREAD_GRAYSCALE - reads as grayscale\n",
    "cv2.IMREAD_UNCHANGED - preserves all channels including alpha\n",
    "\n",
    "\n",
    "\n",
    "    'image.jpg',\n",
    "    )  # This returns a NumPy ndarray  \n",
    "print(type(img))               # <class 'numpy.ndarray'>      \n",
    "print(img.shape)               # e.g., (height, width, channels)      \n",
    "print(img.dtype)               # e.g., uint8  \n",
    "```    \n",
    "For example:  \n",
    "\n",
    "```python\n",
    "Grayscale image → shape: (H, W)\n",
    "Color image (BGR) → shape: (H, W, 3)\n",
    "With alpha (BGRA) → shape: (H, W, 4)\n",
    "```\n",
    "\n",
    "\n"
   ]
  },
  {
   "cell_type": "markdown",
   "id": "9c8ff06d",
   "metadata": {},
   "source": [
    "#### reading an image with alpha channel"
   ]
  },
  {
   "cell_type": "code",
   "execution_count": null,
   "id": "eaeaeef7",
   "metadata": {},
   "outputs": [],
   "source": [
    "import cv2  \n",
    "\n",
    "img = cv2.imread(\n",
    "    'images\\\\rehka.png',        #pathname of the image file\n",
    "    cv2.IMREAD_UNCHANGED)       #opencv read flag  \n",
    "print(type(img))               # <class 'numpy.ndarray'>      \n",
    "print(img.shape)               # e.g., (height, width, channels)      \n",
    "print(img.dtype)               # e.g., uint8  "
   ]
  },
  {
   "cell_type": "markdown",
   "id": "b02b2705",
   "metadata": {},
   "source": [
    "#### reading an image normally\n",
    "Using the imread() without the second argument will discard the alpha channel even if the image does have an alpha channel"
   ]
  },
  {
   "cell_type": "code",
   "execution_count": null,
   "id": "3ead21a7",
   "metadata": {},
   "outputs": [],
   "source": [
    "img = cv2.imread('images\\\\rehka.png' )\n",
    "print(type(img))               # <class 'numpy.ndarray'>      \n",
    "print(img.shape)               # e.g., (height, width, channels)      \n",
    "print(img.dtype)               # e.g., uint8  "
   ]
  },
  {
   "cell_type": "markdown",
   "id": "a4ef189d",
   "metadata": {},
   "source": [
    "#### reading an image as grayscale\n",
    "You will have to use the cv2.IMREAD_GRAYSCALE parameter"
   ]
  },
  {
   "cell_type": "code",
   "execution_count": null,
   "id": "a1c140b5",
   "metadata": {},
   "outputs": [],
   "source": [
    "img = cv2.imread('images\\\\rehka.png', cv2.IMREAD_GRAYSCALE)\n",
    "print(type(img))               # <class 'numpy.ndarray'>      \n",
    "print(img.shape)               # e.g., (height, width, channels)      \n",
    "print(img.dtype)               # e.g., uint8  "
   ]
  },
  {
   "cell_type": "markdown",
   "id": "9cd1f91b",
   "metadata": {},
   "source": [
    "### 2. Color Order: BGR, not RGB\n",
    "OpenCV loads color images in BGR (Blue-Green-Red) order — this is a key quirk!\n",
    "\n",
    "```python\n",
    "# Convert to RGB if needed (e.g., for matplotlib or PIL)\n",
    "img_rgb = cv2.cvtColor(img, cv2.COLOR_BGR2RGB)\n",
    "```\n",
    "\n",
    "\n",
    "### 3. Data Types\n",
    "| Data Type | Meaning                                    |\n",
    "|-----------|--------------------------------------------|\n",
    "| uint8\t    | Most common (0–255 per channel)            |\n",
    "| float32\t| For HDR or scientific images               |\n",
    "| uint16\t| High bit-depth (e.g., 16-bit grayscale)    |\n",
    "\n",
    "### 4. Multi-channel Images\n",
    "OpenCV supports multiple channels:\n",
    "\n",
    "- 1 channel → Grayscale\n",
    "- 3 channels → BGR\n",
    "- 4 channels → BGRA\n",
    "- Multi-spectral / custom images → More channels possible (e.g., hyperspectral)\n",
    "\n",
    "### 5. Channel Access\n",
    "You can access and manipulate pixels/channels easily with NumPy:\n",
    "```python\n",
    "blue = img[:, :, 0]   # Blue channel\n",
    "green = img[:, :, 1]  # Green channel\n",
    "red = img[:, :, 2]    # Red channel\n",
    "```\n",
    "### Summary\n",
    "| Feature\t       | Description                          |\n",
    "| ---              | ---                                  |\n",
    "| Internal Format  |\tNumPy array                       |\n",
    "| Default Channels |\tBGR (not RGB)                     |\n",
    "| Bit Depth\t       | Typically 8-bit unsigned int (uint8) |\n",
    "| Transparency     | \tSupported as 4th channel (BGRA)   |"
   ]
  },
  {
   "cell_type": "code",
   "execution_count": null,
   "id": "80f9d36e",
   "metadata": {},
   "outputs": [],
   "source": [
    "#import the necessary libraries\n",
    "import cv2\n",
    "import numpy as np\n",
    "from matplotlib import pyplot as plt\n",
    "%matplotlib inline"
   ]
  },
  {
   "cell_type": "markdown",
   "id": "b082a6db",
   "metadata": {},
   "source": [
    "OpenCV is able to read and write the following image format:\n",
    "- jpeg/jpg\n",
    "- png\n",
    "- bmp\n",
    "- tiff/tif\n",
    "- ppm/pgm/pbm\n",
    "\n",
    "Other formats (GIF, WebP, HDR, JPEG200, SVG, RAW, ) can be read with other image manipulation \n",
    "package (pillow, etc.) and the resulting data can be converted to opencv internal format"
   ]
  },
  {
   "cell_type": "markdown",
   "id": "ada94fd7",
   "metadata": {},
   "source": [
    "### Loading an image from a file\n",
    "```python\n",
    "syntax:\n",
    "img = cv2.imread(<<pathname of file>>, [<<ImreadMode>>])\n",
    "pathname of file -> this is the relative or full pathname of the image file\n",
    "\n",
    "image_file is a file of the following image format:\n",
    "    Windows bitmaps - *.bmp, *.dib (always supported)\n",
    "    GIF files - *.gif (always supported)\n",
    "    JPEG files - *.jpeg, *.jpg, *.jpe \n",
    "    JPEG 2000 files - *.jp2 \n",
    "    Portable Network Graphics - *.png \n",
    "    WebP - *.webp \n",
    "    AVIF - *.avif \n",
    "    Portable image format - *.pbm, *.pgm, *.ppm, *.pxm, *.pnm (always supported)\n",
    "    PFM files - *.pfm \n",
    "    Sun rasters - *.sr, *.ras (always supported)\n",
    "    TIFF files - *.tiff, *.tif \n",
    "    OpenEXR Image files - *.exr \n",
    "    Radiance HDR - *.hdr, *.pic (always supported)\n",
    "    Raster and Vector geospatial data supported by GDAL \n",
    "\n",
    "ImreadModes : \n",
    "    IMREAD_UNCHANGED = -1,\n",
    "    IMREAD_GRAYSCALE = 0,\n",
    "    IMREAD_COLOR = 1,\n",
    "    IMREAD_ANYDEPTH = 2,\n",
    "    IMREAD_ANYCOLOR = 4,\n",
    "    IMREAD_LOAD_GDAL = 8,\n",
    "    IMREAD_REDUCED_GRAYSCALE_2 = 16,\n",
    "    IMREAD_REDUCED_COLOR_2 = 17,\n",
    "    IMREAD_REDUCED_GRAYSCALE_4 = 32,\n",
    "    IMREAD_REDUCED_COLOR_4 = 33,\n",
    "    IMREAD_REDUCED_GRAYSCALE_8 = 64,\n",
    "    IMREAD_REDUCED_COLOR_8 = 65 \n",
    "```\n",
    "OpenCV default color space is `BGR` (not the common `RGB`)"
   ]
  },
  {
   "cell_type": "code",
   "execution_count": null,
   "id": "c8124c78",
   "metadata": {},
   "outputs": [],
   "source": [
    "# Load the image\n",
    "img = cv2.imread('images/baboon.jpg')\n",
    "# Check if the image is loaded properly\n",
    "if img is None:\n",
    "    raise ValueError(\"Image not found or unable to load.\")"
   ]
  },
  {
   "cell_type": "code",
   "execution_count": null,
   "id": "839abc54",
   "metadata": {},
   "outputs": [],
   "source": [
    "# Display some properties\n",
    "\n",
    "# Print image properties\n",
    "print(f'Image shape: {img.shape}')  # (height, width, channels)\n",
    "\n",
    "print(f'Image data type: {img.dtype}')  # e.g., uint8\n",
    "\n",
    "# Print the number of channels\n",
    "num_channels = img.shape[2] if len(img.shape) == 3 else 1\n",
    "print(f'Number of channels: {num_channels}')"
   ]
  },
  {
   "cell_type": "code",
   "execution_count": null,
   "id": "2185fbd8",
   "metadata": {},
   "outputs": [],
   "source": [
    "# Display the image ( Method 1 using opencv)\n",
    "cv2.imshow('Baboon', img) \n",
    "\n",
    "# Closes the window when the user presses any key\n",
    "cv2.waitKey(0)\n",
    "cv2.destroyAllWindows()"
   ]
  },
  {
   "cell_type": "code",
   "execution_count": null,
   "id": "efbf241a",
   "metadata": {},
   "outputs": [],
   "source": [
    "# Display the image (Method 2 using matplotlib)\n",
    "plt.figure(figsize=(10, 6))\n",
    "\n",
    "# Convert BGR to RGB for correct color representation in matplotlib\n",
    "img = cv2.cvtColor(img, cv2.COLOR_BGR2RGB)\n",
    "\n",
    "# Display the image\n",
    "plt.imshow(img)\n",
    "\n",
    "# Set the title and remove axes\n",
    "plt.title('Original Image')\n",
    "plt.axis('off')\n",
    "plt.show()"
   ]
  },
  {
   "cell_type": "code",
   "execution_count": null,
   "id": "6aeffffd",
   "metadata": {},
   "outputs": [],
   "source": [
    "# create a random image\n",
    "\n",
    "#make an array of 120,000 items using numpy\n",
    "random_array = np.random.randint(0, 256, size=120_000, dtype=np.uint8)\n",
    "\n",
    "#convert the array to a 400 x 300 grayscale image\n",
    "img_grayscale = random_array.reshape(400, 300)\n",
    "\n",
    "#convert the grayscale image to a 3-channel BGR image\n",
    "img_bgr = cv2.cvtColor(img_grayscale, cv2.COLOR_GRAY2RGB)\n",
    "#display the image\n",
    "plt.imshow(img_bgr)\n",
    "plt.axis('off')  # Hide axes\n",
    "plt.show()\n"
   ]
  },
  {
   "cell_type": "code",
   "execution_count": null,
   "id": "f9a86b88",
   "metadata": {},
   "outputs": [],
   "source": [
    "#convert the array to a 400 x 100 x 3 color image\n",
    "img_color = random_array.reshape(100, 400, 3)\n",
    "\n",
    "#convert the 3-channel to RGB image\n",
    "img_color = cv2.cvtColor(img_color, cv2.COLOR_BGR2RGB)\n",
    "#display the image\n",
    "plt.imshow(img_color)\n",
    "plt.axis('off')  # Hide axes\n",
    "plt.show()"
   ]
  },
  {
   "cell_type": "markdown",
   "id": "920b8f13",
   "metadata": {},
   "source": [
    "OpenCV is able to write the following image formats:\n",
    "- png\n",
    "- jpg"
   ]
  }
 ],
 "metadata": {
  "kernelspec": {
   "display_name": "Python 3",
   "language": "python",
   "name": "python3"
  },
  "language_info": {
   "codemirror_mode": {
    "name": "ipython",
    "version": 3
   },
   "file_extension": ".py",
   "mimetype": "text/x-python",
   "name": "python",
   "nbconvert_exporter": "python",
   "pygments_lexer": "ipython3",
   "version": "3.13.2"
  }
 },
 "nbformat": 4,
 "nbformat_minor": 5
}

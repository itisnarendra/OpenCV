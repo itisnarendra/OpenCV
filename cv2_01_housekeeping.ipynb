{
 "cells": [
  {
   "cell_type": "markdown",
   "id": "71618500",
   "metadata": {},
   "source": [
    "In this section we will cover some basic tasks that is crucial for the later more advanced tasks.\n",
    "## Preliminary Concepts\n",
    "### Contents\n",
    "1. [Install](#installation) the necessary libraries \n",
    "1. [Import](#import) the libraries\n",
    "1. Matplotlib\n",
    "1. [Read](#read) an image file  \n",
    "1. [Display](#display) the resulting file  \n",
    "1. [Save](#save) the image file   "
   ]
  },
  {
   "cell_type": "markdown",
   "id": "a023553a",
   "metadata": {},
   "source": [
    "#### Module vs. Library vs. Framework\n",
    "\n",
    "##### Module\n",
    "-   Smallest unit of code organization in Python\n",
    "-   A single Python file that contains function, classes, or variables.\n",
    "    -   `math` for access to mathematical functions.\n",
    "    -   `random` for access to ramdom related functions.\n",
    "    -   `os` for interacting with the operating system.\n",
    "    -   `sys` to access system-specific parameters and functions.\n",
    "\n",
    "#### Package\n",
    "-   A package is a directory that contains multiple modules and an `__init__.py` file (which can be empty or contain initialization code).   \n",
    "\n",
    "##### Library\n",
    "-   A collection of modules that provide related functionality\n",
    "-   It is a bundle of modules designed to solve specific problesm or add features\n",
    "    -   `beautifulsoup` for HTML and XML parsing in web scraping.\n",
    "    -   `spaCy` for natural language processing\n",
    "    -   `selenium` for testing web apps\n",
    "    -   `pandas` for data manipulation\n",
    "    -   `requests` for HTTP requests\n",
    "\n",
    "##### Framework\n",
    "-   This is a much larger structure that provides a fundation for building applications\n",
    "-   It is a complete architecture with predefined rules and patterns\n",
    "-   You build your code within the framework's structure\n",
    "-   It oftwen includes libraries and modules\n",
    "    -   `django` for web development\n",
    "    -   `flask` (micro-framework) for web apps.\n",
    "    -   `FastAPI` for building APIs quickly   \n",
    "\n",
    "| Term      | Scope                      | Contains                |  Example       | Purpose                       |\n",
    "|-----------|----------------------------|-------------------------|----------------|-------------------------------|\n",
    "| Module    | Single .py file            | Function, class         |  `math`        | Reusable code unit            |\n",
    "| Psckage   | Folder with `__init__.py`  | Multiple modules        |  `os`, `email` | Organised module collection   |\n",
    "| Library   | Collection of modules      | Module & packages       |  `NumPy`       | Adds specialized functionality|\n",
    "| Framework | Full application structure | Libraries & conventions |  `Django`      | Guides entire app development |"
   ]
  },
  {
   "cell_type": "markdown",
   "id": "de5fc0b8",
   "metadata": {},
   "source": [
    "### <a id='install'></a>Install the necessary libraries\n",
    "We will be using the following Python libraries\n",
    "-   `opencv` computer vision, image progessing, and machine learning\n",
    "-   `numpy` for numerical computing\n",
    "-   `matplotlib` to create static, animated and interactive visualization \n",
    "\n",
    "\n",
    "The best way of managing your Python libraries of frameworks is by using the *Python Installer Package* (`pip`). This simplifies installation, removal, and updating of any software that you might want to use."
   ]
  },
  {
   "cell_type": "markdown",
   "id": "4a9fe808",
   "metadata": {},
   "source": [
    "The method of installation wil depend on how you are accessing Python: on your **personal pc** or a cloud platform like **google colab**\n",
    "#### Personal computer   \n",
    "If you do lots of Python coding and do not want to polute you current work environment you may create a virtual environment    \n",
    "Run the following commands to install the required software:   \n",
    "`pip install opencv-python numpy matplotlib`\n",
    "\n",
    "#### Cloud machine   \n",
    "The is very convenient and is available if you have a gmail account. Login into your gmail and in another tab, go the url `colab.google`   \n",
    "On colab, the software is already installed, however if it is not, use the following command in a cell:\n",
    "`!pip install opencv-python numpy matplotlib`"
   ]
  },
  {
   "cell_type": "code",
   "execution_count": null,
   "id": "43a0e5a8",
   "metadata": {},
   "outputs": [],
   "source": [
    "# installing opencv, numpy and matplotlib\n",
    "# these are the main libraries that we will use throughout the workshop\n",
    "# uncomment the line below to install the libraries if you have not done so already\n",
    "# !pip install opencv-python numpy matplotlib"
   ]
  },
  {
   "cell_type": "markdown",
   "id": "da284475",
   "metadata": {},
   "source": [
    "### <a id='import'></a>Import the necessary libraries\n",
    "Once the libraries have been installed by pip, you will have access to them.   \n",
    "The import statement has many forms:\n",
    "\n",
    "#### A module that was written by you and not installed via `pip`\n",
    "```python\n",
    "import narendra_module\n",
    "```   \n",
    "Note the following:   \n",
    "-   The Python file is call `narendra_module.py`. \n",
    "-   The `.py` extension is omitted.\n",
    "-   The file is located in the current folder\n",
    "\n",
    "#### A module that was installed with `pip`\n",
    "```python\n",
    "import installed_module1, installed_module2\n",
    "```\n",
    "-   This works regardless of your currently working directly   \n",
    "\n",
    "#### Importing only some functions from a module\n",
    "```python\n",
    "from math import pi, sin\n",
    "```    \n",
    "-   This is the preferred way because it does not polute your environment.\n",
    "\n",
    "#### Using an alias\n",
    "```python\n",
    "import numpy as np\n",
    "import matplotlib.pyplot as plt\n",
    "```\n",
    "-   The simplifies writing the original (often quite long) name of the module\n",
    "-   You ca replace a newer version of the library by using the same alias and your code does not have to change\n",
    "\n",
    "#### Combining the last two\n"
   ]
  },
  {
   "cell_type": "code",
   "execution_count": null,
   "id": "6c11e41c",
   "metadata": {},
   "outputs": [],
   "source": [
    "# importing the libraries\n",
    "# here an alias is used for easier access\n",
    "import cv2\n",
    "import numpy as np\n",
    "import matplotlib.pyplot as plt"
   ]
  },
  {
   "cell_type": "markdown",
   "id": "d37505f7",
   "metadata": {},
   "source": [
    "### <a id='read'></a>Reading an image from a file    \n",
    "Reading an image is probable the most common way of obtaining an image.  \n",
    "\n",
    "#### Syntax:\n",
    "```\n",
    "img = cv2.imread(<<pathname of file>>, [<<ImreadMode>>])\n",
    "pathname of file -> this is the relative or full pathname of the image file\n",
    "\n",
    "image_file is a file of the following image format:\n",
    "    Windows bitmaps - *.bmp, *.dib (always supported)\n",
    "    GIF files - *.gif (always supported)\n",
    "    JPEG files - *.jpeg, *.jpg, *.jpe \n",
    "    JPEG 2000 files - *.jp2 \n",
    "    Portable Network Graphics - *.png \n",
    "    WebP - *.webp \n",
    "    AVIF - *.avif \n",
    "    Portable image format - *.pbm, *.pgm, *.ppm, *.pxm, *.pnm (always supported)\n",
    "    PFM files - *.pfm \n",
    "    Sun rasters - *.sr, *.ras (always supported)\n",
    "    TIFF files - *.tiff, *.tif \n",
    "    OpenEXR Image files - *.exr \n",
    "    Radiance HDR - *.hdr, *.pic (always supported)\n",
    "    Raster and Vector geospatial data supported by GDAL \n",
    "\n",
    "ImreadModes : \n",
    "    IMREAD_UNCHANGED = -1,\n",
    "    IMREAD_GRAYSCALE = 0,\n",
    "    IMREAD_COLOR = 1,\n",
    "    IMREAD_ANYDEPTH = 2,\n",
    "    IMREAD_ANYCOLOR = 4,\n",
    "    IMREAD_LOAD_GDAL = 8,\n",
    "    IMREAD_REDUCED_GRAYSCALE_2 = 16,\n",
    "    IMREAD_REDUCED_COLOR_2 = 17,\n",
    "    IMREAD_REDUCED_GRAYSCALE_4 = 32,\n",
    "    IMREAD_REDUCED_COLOR_4 = 33,\n",
    "    IMREAD_REDUCED_GRAYSCALE_8 = 64,\n",
    "    IMREAD_REDUCED_COLOR_8 = 65 \n",
    "```\n",
    "OpenCV default color space is `BGR` (not the common `RGB`)"
   ]
  },
  {
   "cell_type": "code",
   "execution_count": null,
   "id": "3c894d73",
   "metadata": {},
   "outputs": [],
   "source": [
    "image_path = 'images/aish.png'\n",
    "img = cv2.imread(image_path)\n",
    "if img is None:                                     # check if image is loaded successfully\n",
    "    print(\"Error: Could not read the image.\")       # print error message                    "
   ]
  },
  {
   "cell_type": "markdown",
   "id": "45453519",
   "metadata": {},
   "source": [
    "### <a id='display'></a>Displaying information about image    \n",
    "Some critical information about the image includes the type and shape"
   ]
  },
  {
   "cell_type": "code",
   "execution_count": null,
   "id": "f89cf9c3",
   "metadata": {},
   "outputs": [],
   "source": [
    "print(type(img))               # <class 'numpy.ndarray'>      \n",
    "print(img.shape)               # e.g., (height, width, channels)      \n",
    "print(img.dtype)               # e.g., uint8  "
   ]
  },
  {
   "cell_type": "markdown",
   "id": "7e14039a",
   "metadata": {},
   "source": [
    "Essentially there are two ways of displaying an image: Using Matplotlib and OpenCV, for now we will use the former\n",
    "Reading an image is probable the most common way of obtaining an image."
   ]
  },
  {
   "cell_type": "code",
   "execution_count": null,
   "id": "95e869cb",
   "metadata": {},
   "outputs": [],
   "source": [
    "# now to display the image using matplotlib\n",
    "# note that OpenCV reads the image in BGR format while matplotlib expects RGB format\n",
    "img = cv2.cvtColor(img, cv2.COLOR_BGR2RGB)\n",
    "plt.imshow(img)\n",
    "plt.axis('off')  # Hide axiss\n",
    "plt.show()"
   ]
  },
  {
   "cell_type": "code",
   "execution_count": null,
   "id": "ce9ff417",
   "metadata": {},
   "outputs": [],
   "source": [
    "#although the image contains an alpha channel, OpenCV by default reads only 3 channels (BGR)\n",
    "\n",
    "image_path = 'images/aish.png'\n",
    "img = cv2.imread(image_path, cv2.IMREAD_UNCHANGED)  # read with alpha channel\n",
    "img = cv2.cvtColor(img, cv2.COLOR_BGRA2RGBA)      # convert to RGBA for matplotlib\n",
    "plt.imshow(img)\n",
    "plt.axis('off')  # Hide axiss\n",
    "plt.show()"
   ]
  },
  {
   "cell_type": "markdown",
   "id": "00ac2ea5",
   "metadata": {},
   "source": [
    "### <a id='save'></a>Saving the image    \n",
    "Opencv is able to save image data in a number of formats:\n",
    "\n",
    "\n",
    "| Format       | Extension(s)     |\tNotes                                                              |\n",
    "|--------------|------------------|--------------------------------------------------------------------|\n",
    "| JPEG         | .jpg, .jpeg      |Supports compression quality via cv2.IMWRITE_JPEG_QUALITY (0–100)   |\n",
    "| PNG          | .png             |Supports lossless compression via cv2.IMWRITE_PNG_COMPRESSION (0–9) |\n",
    "| BMP          | .bmp             |Uncompressed bitmap format                                          |\n",
    "| TIFF         | .tiff, .tif      |Supports multi-page and compression options                         |\n",
    "| WebP         | .webp\t          |Modern format with lossy/lossless compression                       |\n",
    "| PPM/PGM/PPB  | .ppm, .pgm, .pbm |\tPortable image formats (Netpbm family)                             |\n",
    "| HDR          | .hdr             |High Dynamic Range image format                                     |\n",
    "| EXR          | .exr             |OpenEXR format for high-fidelity image storage                      |\n",
    "\n",
    "#### Common use\n",
    "-   Saving allows you to keep the results of some processing eg. filtering, edge detection\n",
    "-   Exporting frames from video\n",
    "-   Saving the result of computer vision tasks like face detection of object tracking"
   ]
  },
  {
   "cell_type": "code",
   "execution_count": null,
   "id": "e4c592b1",
   "metadata": {},
   "outputs": [],
   "source": [
    "# cv2.imwrite('images\\\\stage_copy.bmp', img)\n",
    "# cv2.imwrite('images\\\\stage_copy.jpg', img)\n",
    "cv2.imwrite('images\\\\stage_copy.png', img)\n"
   ]
  },
  {
   "cell_type": "markdown",
   "id": "101cf942",
   "metadata": {},
   "source": [
    "The resulting file format will depend on the given file extension and also on the image data type.    \n",
    "This is especially true for `png` extension. If the memory file has three channels, it will be a normal `png` file. However if the memory file has four channels it will be a transparent `png` file."
   ]
  },
  {
   "cell_type": "markdown",
   "id": "875b25c3",
   "metadata": {},
   "source": [
    "When we talk about an \"OpenCV image format,\" we're really talking about the way OpenCV represents image data in memory, not the file formats like PNG or JPEG.\n",
    "\n",
    "### Internal Image Representation in OpenCV\n",
    "OpenCV stores images as NumPy arrays, with these characteristics:\n",
    "\n",
    "#### 1. Data Type & Shape\n",
    "\n",
    "For example:  \n",
    "\n",
    "```python\n",
    "Grayscale image → shape: (H, W)\n",
    "Color image (BGR) → shape: (H, W, 3)\n",
    "With alpha (BGRA) → shape: (H, W, 4)\n",
    "```\n",
    "\n",
    "\n"
   ]
  },
  {
   "cell_type": "markdown",
   "id": "9c8ff06d",
   "metadata": {},
   "source": [
    "#### reading an image with alpha channel"
   ]
  },
  {
   "cell_type": "code",
   "execution_count": null,
   "id": "eaeaeef7",
   "metadata": {},
   "outputs": [],
   "source": [
    "import cv2  \n",
    "\n",
    "img = cv2.imread(\n",
    "    'images\\\\rehka.png',        #pathname of the image file\n",
    "    cv2.IMREAD_UNCHANGED)       #opencv read flag  \n",
    "print(type(img))               # <class 'numpy.ndarray'>      \n",
    "print(img.shape)               # e.g., (height, width, channels)      \n",
    "print(img.dtype)               # e.g., uint8  "
   ]
  },
  {
   "cell_type": "markdown",
   "id": "b02b2705",
   "metadata": {},
   "source": [
    "#### reading an image normally\n",
    "Using the imread() without the second argument will discard the alpha channel even if the image does have an alpha channel"
   ]
  },
  {
   "cell_type": "code",
   "execution_count": null,
   "id": "3ead21a7",
   "metadata": {},
   "outputs": [],
   "source": [
    "img = cv2.imread('images\\\\rehka.png' )\n",
    "print(type(img))               # <class 'numpy.ndarray'>      \n",
    "print(img.shape)               # e.g., (height, width, channels)      \n",
    "print(img.dtype)               # e.g., uint8  "
   ]
  },
  {
   "cell_type": "markdown",
   "id": "a4ef189d",
   "metadata": {},
   "source": [
    "#### reading an image as grayscale\n",
    "You will have to use the cv2.IMREAD_GRAYSCALE parameter"
   ]
  },
  {
   "cell_type": "code",
   "execution_count": null,
   "id": "a1c140b5",
   "metadata": {},
   "outputs": [],
   "source": [
    "img = cv2.imread('images\\\\rehka.png', cv2.IMREAD_GRAYSCALE)\n",
    "print(type(img))               # <class 'numpy.ndarray'>      \n",
    "print(img.shape)               # e.g., (height, width, channels)      \n",
    "print(img.dtype)               # e.g., uint8  "
   ]
  },
  {
   "cell_type": "markdown",
   "id": "9cd1f91b",
   "metadata": {},
   "source": [
    "### 2. Color Order: BGR, not RGB\n",
    "OpenCV loads color images in BGR (Blue-Green-Red) order — this is a key quirk!\n",
    "\n",
    "```python\n",
    "# Convert to RGB if needed (e.g., for matplotlib or PIL)\n",
    "img_rgb = cv2.cvtColor(img, cv2.COLOR_BGR2RGB)\n",
    "```\n",
    "\n",
    "\n",
    "### 3. Data Types\n",
    "| Data Type | Meaning                                    |\n",
    "|-----------|--------------------------------------------|\n",
    "| uint8\t    | Most common (0–255 per channel)            |\n",
    "| float32\t| For HDR or scientific images               |\n",
    "| uint16\t| High bit-depth (e.g., 16-bit grayscale)    |\n",
    "\n",
    "### 4. Multi-channel Images\n",
    "OpenCV supports multiple channels:\n",
    "\n",
    "- 1 channel → Grayscale\n",
    "- 3 channels → BGR\n",
    "- 4 channels → BGRA\n",
    "- Multi-spectral / custom images → More channels possible (e.g., hyperspectral)\n",
    "\n",
    "### 5. Channel Access\n",
    "You can access and manipulate pixels/channels easily with NumPy:\n",
    "```python\n",
    "blue = img[:, :, 0]   # Blue channel\n",
    "green = img[:, :, 1]  # Green channel\n",
    "red = img[:, :, 2]    # Red channel\n",
    "```\n",
    "### Summary\n",
    "| Feature\t       | Description                          |\n",
    "| ---              | ---                                  |\n",
    "| Internal Format  |\tNumPy array                       |\n",
    "| Default Channels |\tBGR (not RGB)                     |\n",
    "| Bit Depth\t       | Typically 8-bit unsigned int (uint8) |\n",
    "| Transparency     | \tSupported as 4th channel (BGRA)   |"
   ]
  },
  {
   "cell_type": "code",
   "execution_count": null,
   "id": "80f9d36e",
   "metadata": {},
   "outputs": [],
   "source": [
    "#import the necessary libraries\n",
    "import cv2\n",
    "import numpy as np\n",
    "from matplotlib import pyplot as plt\n",
    "%matplotlib inline"
   ]
  },
  {
   "cell_type": "markdown",
   "id": "b082a6db",
   "metadata": {},
   "source": [
    "OpenCV is able to read and write the following image format:\n",
    "- jpeg/jpg\n",
    "- png\n",
    "- bmp\n",
    "- tiff/tif\n",
    "- ppm/pgm/pbm\n",
    "\n",
    "Other formats (GIF, WebP, HDR, JPEG200, SVG, RAW, ) can be read with other image manipulation \n",
    "package (pillow, etc.) and the resulting data can be converted to opencv internal format"
   ]
  },
  {
   "cell_type": "code",
   "execution_count": null,
   "id": "c8124c78",
   "metadata": {},
   "outputs": [],
   "source": [
    "# Load the image\n",
    "img = cv2.imread('images/baboon.jpg')\n",
    "# Check if the image is loaded properly\n",
    "if img is None:\n",
    "    raise ValueError(\"Image not found or unable to load.\")"
   ]
  },
  {
   "cell_type": "code",
   "execution_count": null,
   "id": "efbf241a",
   "metadata": {},
   "outputs": [],
   "source": [
    "# Display the image (Method 2 using matplotlib)\n",
    "plt.figure(figsize=(10, 6))\n",
    "\n",
    "# Convert BGR to RGB for correct color representation in matplotlib\n",
    "img = cv2.cvtColor(img, cv2.COLOR_BGR2RGB)\n",
    "\n",
    "# Display the image\n",
    "plt.imshow(img)\n",
    "\n",
    "# Set the title and remove axes\n",
    "plt.title('Original Image')\n",
    "plt.axis('off')\n",
    "plt.show()"
   ]
  },
  {
   "cell_type": "code",
   "execution_count": null,
   "id": "6aeffffd",
   "metadata": {},
   "outputs": [],
   "source": [
    "# create a random image\n",
    "\n",
    "#make an array of 120,000 items using numpy\n",
    "random_array = np.random.randint(0, 256, size=120_000, dtype=np.uint8)\n",
    "\n",
    "#convert the array to a 400 x 300 grayscale image\n",
    "img_grayscale = random_array.reshape(400, 300)\n",
    "\n",
    "#convert the grayscale image to a 3-channel BGR image\n",
    "img_bgr = cv2.cvtColor(img_grayscale, cv2.COLOR_GRAY2RGB)\n",
    "#display the image\n",
    "plt.imshow(img_bgr)\n",
    "plt.axis('off')  # Hide axes\n",
    "plt.show()\n"
   ]
  },
  {
   "cell_type": "code",
   "execution_count": null,
   "id": "f9a86b88",
   "metadata": {},
   "outputs": [],
   "source": [
    "#convert the array to a 400 x 100 x 3 color image\n",
    "img_color = random_array.reshape(100, 400, 3)\n",
    "\n",
    "#convert the 3-channel to RGB image\n",
    "img_color = cv2.cvtColor(img_color, cv2.COLOR_BGR2RGB)\n",
    "#display the image\n",
    "plt.imshow(img_color)\n",
    "plt.axis('off')  # Hide axes\n",
    "plt.show()"
   ]
  },
  {
   "cell_type": "markdown",
   "id": "920b8f13",
   "metadata": {},
   "source": [
    "OpenCV is able to write the following image formats:\n",
    "- png\n",
    "- jpg"
   ]
  }
 ],
 "metadata": {
  "kernelspec": {
   "display_name": "Python 3",
   "language": "python",
   "name": "python3"
  },
  "language_info": {
   "codemirror_mode": {
    "name": "ipython",
    "version": 3
   },
   "file_extension": ".py",
   "mimetype": "text/x-python",
   "name": "python",
   "nbconvert_exporter": "python",
   "pygments_lexer": "ipython3",
   "version": "3.13.2"
  }
 },
 "nbformat": 4,
 "nbformat_minor": 5
}

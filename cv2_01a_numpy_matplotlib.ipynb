{
 "cells": [
  {
   "cell_type": "markdown",
   "id": "ee1d7f2b",
   "metadata": {},
   "source": [
    "# Matplotlib & NumPy Tutorial: Working Together\n",
    "\n",
    "## Introduction\n",
    "\n",
    "Matplotlib and NumPy are the dynamic duo of Python data visualization and numerical computing. NumPy provides powerful array operations and mathematical functions, while Matplotlib transforms that data into beautiful visualizations.\n",
    "\n",
    "## Table of Contents\n",
    "1. [Basic Setup](#basic-setup)\n",
    "2. [Simple Line Plots](#simple-line-plots)\n",
    "3. [Multiple Plots and Subplots](#multiple-plots-and-subplots)\n",
    "4. [Statistical Visualizations](#statistical-visualizations)\n",
    "5. [2D Arrays and Heatmaps](#2d-arrays-and-heatmaps)\n",
    "6. [3D Plotting](#3d-plotting)\n",
    "7. [Advanced Techniques](#advanced-techniques)\n"
   ]
  },
  {
   "cell_type": "code",
   "execution_count": null,
   "id": "9c21fef1",
   "metadata": {},
   "outputs": [],
   "source": [
    "## Basic Setup\n",
    "import cv2\n",
    "import numpy as np\n",
    "import matplotlib.pyplot as plt\n",
    "\n",
    "# Set style for better-looking plots\n",
    "plt.style.use('seaborn-v0_8-darkgrid')"
   ]
  },
  {
   "cell_type": "markdown",
   "id": "542b6d44",
   "metadata": {},
   "source": [
    "## numpy\n",
    "1.  OpenCV images ARE NumPy arrays\n",
    "    -   type(cv2.imread('image.jpg')) → numpy.ndarray\n",
    "    -   All OpenCV functions expect/return NumPy arrays\n",
    "\n",
    "2.  Image structure:\n",
    "    -   Shape: (height, width, channels)\n",
    "    -   Data type: uint8 (values 0-255)\n",
    "    -   Color order: BGR (not RGB!)\n",
    "\n",
    "3.  What NumPy provides:\n",
    "    -   Array indexing and slicing\n",
    "    -   Mathematical operations (+, -, *, /)\n",
    "    -   Statistical functions (mean, std, min, max)\n",
    "    -   Boolean indexing and masking\n",
    "    -   Reshaping and stacking operations"
   ]
  },
  {
   "cell_type": "markdown",
   "id": "408f96ec",
   "metadata": {},
   "source": [
    "### read image and show info\n"
   ]
  },
  {
   "cell_type": "code",
   "execution_count": null,
   "id": "f3f917c8",
   "metadata": {},
   "outputs": [],
   "source": [
    "img_path = 'images\\\\stage.png'\n",
    "img = cv2.imread(img_path, cv2.IMREAD_UNCHANGED)\n",
    "print(f'     type: {type(img)}')\n",
    "print(f'    shape: {img.shape}')\n",
    "print(f'data type: {img.dtype}')\n",
    "img = cv2.cvtColor(img, cv2.COLOR_BGR2RGB)\n",
    "plt.imshow(img)\n",
    "plt.axis('off')\n"
   ]
  },
  {
   "cell_type": "code",
   "execution_count": null,
   "id": "2e47ea1e",
   "metadata": {},
   "outputs": [],
   "source": [
    "img = cv2.imread(img_path)\n",
    "print(f'     type: {type(img)}')\n",
    "print(f'    shape: {img.shape}')\n",
    "print(f'data type: {img.dtype}')\n",
    "img = cv2.cvtColor(img, cv2.COLOR_BGR2RGB)\n",
    "plt.imshow(img)\n",
    "plt.axis('off')"
   ]
  },
  {
   "cell_type": "code",
   "execution_count": null,
   "id": "091f40ca",
   "metadata": {},
   "outputs": [],
   "source": [
    "img = cv2.imread(img_path, cv2.IMREAD_COLOR)\n",
    "print(f'     type: {type(img)}')\n",
    "print(f'    shape: {img.shape}')\n",
    "print(f'data type: {img.dtype}')"
   ]
  },
  {
   "cell_type": "code",
   "execution_count": null,
   "id": "d3346aae",
   "metadata": {},
   "outputs": [],
   "source": [
    "img = cv2.imread(img_path, cv2.IMREAD_GRAYSCALE)\n",
    "print(f'     type: {type(img)}')\n",
    "print(f'    shape: {img.shape}')\n",
    "print(f'data type: {img.dtype}')\n",
    "img = cv2.cvtColor(img, cv2.COLOR_BGR2RGB)\n",
    "plt.imshow(img)\n",
    "plt.axis('off')"
   ]
  },
  {
   "cell_type": "code",
   "execution_count": null,
   "id": "4c31f2b8",
   "metadata": {},
   "outputs": [],
   "source": [
    "img = cv2.imread(img_path)\n",
    "plt.imshow(255 - img)  # invert the colors\n",
    "plt.axis('off')"
   ]
  },
  {
   "cell_type": "markdown",
   "id": "526f2e8b",
   "metadata": {},
   "source": [
    "## Simple Line Plots\n",
    "\n",
    "### Creating Basic Line Plots"
   ]
  },
  {
   "cell_type": "code",
   "execution_count": null,
   "id": "c95d2ce6",
   "metadata": {},
   "outputs": [],
   "source": [
    "# Generate x values using NumPy\n",
    "x = np.linspace(0, 10, 100)  # 100 points from 0 to 10\n",
    "\n",
    "# Calculate y values using NumPy functions\n",
    "y = np.sin(x)\n",
    "\n",
    "# Plot with Matplotlib\n",
    "plt.figure(figsize=(10, 6))\n",
    "plt.plot(x, y, linewidth=2, color='blue', label='sin(x)')\n",
    "plt.xlabel('x')\n",
    "plt.ylabel('y')\n",
    "plt.title('Sine Wave')\n",
    "plt.legend()\n",
    "plt.grid(True)\n",
    "plt.show()"
   ]
  },
  {
   "cell_type": "markdown",
   "id": "71714cd8",
   "metadata": {},
   "source": [
    "### Multiple Functions on One Plot"
   ]
  },
  {
   "cell_type": "code",
   "execution_count": null,
   "id": "73f89a58",
   "metadata": {},
   "outputs": [],
   "source": [
    "x = np.linspace(0, 2*np.pi, 100)\n",
    "\n",
    "# Calculate multiple functions\n",
    "y1 = np.sin(x)\n",
    "y2 = np.cos(x)\n",
    "y3 = np.sin(x) * np.cos(x)\n",
    "\n",
    "# Plot all three\n",
    "plt.figure(figsize=(10, 6))\n",
    "plt.plot(x, y1, label='sin(x)', linewidth=2)\n",
    "plt.plot(x, y2, label='cos(x)', linewidth=2)\n",
    "plt.plot(x, y3, label='sin(x)·cos(x)', linewidth=2, linestyle='--')\n",
    "plt.xlabel('x (radians)')\n",
    "plt.ylabel('y')\n",
    "plt.title('Trigonometric Functions')\n",
    "plt.legend()\n",
    "plt.grid(True, alpha=0.3)\n",
    "plt.show()"
   ]
  },
  {
   "cell_type": "markdown",
   "id": "b34663df",
   "metadata": {},
   "source": [
    "## Multiple Plots and Subplots\n",
    "\n",
    "### Creating a Grid of Plots"
   ]
  },
  {
   "cell_type": "code",
   "execution_count": null,
   "id": "d93988bc",
   "metadata": {},
   "outputs": [],
   "source": [
    "# Create data\n",
    "x = np.linspace(0, 10, 100)\n",
    "\n",
    "# Create 2x2 subplot grid\n",
    "fig, axes = plt.subplots(2, 2, figsize=(12, 10))\n",
    "\n",
    "# Plot 1: Linear\n",
    "axes[0, 0].plot(x, x, 'r-')\n",
    "axes[0, 0].set_title('Linear')\n",
    "axes[0, 0].grid(True)\n",
    "\n",
    "# Plot 2: Quadratic\n",
    "axes[0, 1].plot(x, x**2, 'g-')\n",
    "axes[0, 1].set_title('Quadratic')\n",
    "axes[0, 1].grid(True)\n",
    "\n",
    "# Plot 3: Exponential\n",
    "axes[1, 0].plot(x, np.exp(x/5), 'b-')\n",
    "axes[1, 0].set_title('Exponential')\n",
    "axes[1, 0].grid(True)\n",
    "\n",
    "# Plot 4: Logarithmic\n",
    "axes[1, 1].plot(x[1:], np.log(x[1:]), 'm-')\n",
    "axes[1, 1].set_title('Logarithmic')\n",
    "axes[1, 1].grid(True)\n",
    "\n",
    "plt.tight_layout()\n",
    "plt.show()"
   ]
  },
  {
   "cell_type": "markdown",
   "id": "4e81c5b6",
   "metadata": {},
   "source": [
    "## Statistical Visualizations\n",
    "\n",
    "### Histograms with NumPy Data"
   ]
  },
  {
   "cell_type": "code",
   "execution_count": null,
   "id": "ba864bb4",
   "metadata": {},
   "outputs": [],
   "source": [
    "# Generate random data with NumPy\n",
    "data = np.random.randn(1000)  # Normal distribution\n",
    "\n",
    "# Create histogram\n",
    "plt.figure(figsize=(10, 6))\n",
    "plt.hist(data, bins=30, edgecolor='black', alpha=0.7)\n",
    "plt.xlabel('Value')\n",
    "plt.ylabel('Frequency')\n",
    "plt.title('Normal Distribution Histogram')\n",
    "plt.grid(True, alpha=0.3)\n",
    "plt.show()"
   ]
  },
  {
   "cell_type": "markdown",
   "id": "0adeceee",
   "metadata": {},
   "source": [
    "### Scatter Plots with Correlation"
   ]
  },
  {
   "cell_type": "code",
   "execution_count": null,
   "id": "68517051",
   "metadata": {},
   "outputs": [],
   "source": [
    "# Generate correlated data\n",
    "x = np.random.randn(200)\n",
    "y = 2 * x + np.random.randn(200) * 0.5\n",
    "\n",
    "# Create scatter plot\n",
    "plt.figure(figsize=(10, 6))\n",
    "plt.scatter(x, y, alpha=0.6, s=50)\n",
    "plt.xlabel('X Variable')\n",
    "plt.ylabel('Y Variable')\n",
    "plt.title('Scatter Plot with Correlation')\n",
    "plt.grid(True, alpha=0.3)\n",
    "\n",
    "# Add trend line\n",
    "z = np.polyfit(x, y, 1)\n",
    "p = np.poly1d(z)\n",
    "plt.plot(x, p(x), \"r--\", linewidth=2, label=f'Trend: y={z[0]:.2f}x+{z[1]:.2f}')\n",
    "plt.legend()\n",
    "plt.show()"
   ]
  },
  {
   "cell_type": "markdown",
   "id": "f3dea019",
   "metadata": {},
   "source": [
    "### Box Plots for Multiple Datasets"
   ]
  },
  {
   "cell_type": "code",
   "execution_count": null,
   "id": "f8e4c104",
   "metadata": {},
   "outputs": [],
   "source": [
    "# Generate multiple datasets\n",
    "data1 = np.random.normal(100, 10, 200)\n",
    "data2 = np.random.normal(90, 20, 200)\n",
    "data3 = np.random.normal(110, 15, 200)\n",
    "\n",
    "# Create box plot\n",
    "plt.figure(figsize=(10, 6))\n",
    "plt.boxplot([data1, data2, data3], labels=['Group A', 'Group B', 'Group C'])\n",
    "plt.ylabel('Values')\n",
    "plt.title('Box Plot Comparison')\n",
    "plt.grid(True, alpha=0.3)\n",
    "plt.show()"
   ]
  },
  {
   "cell_type": "markdown",
   "id": "4dddcec1",
   "metadata": {},
   "source": [
    "## 2D Arrays and Heatmaps\n",
    "\n",
    "### Creating Heatmaps from 2D Arrays"
   ]
  },
  {
   "cell_type": "code",
   "execution_count": null,
   "id": "85f6681e",
   "metadata": {},
   "outputs": [],
   "source": [
    "# Create a 2D array\n",
    "data = np.random.rand(10, 10)\n",
    "import pprint\n",
    "pprint.pprint(data)\n",
    "\n",
    "# Create heatmap\n",
    "plt.figure(figsize=(10, 8))\n",
    "plt.imshow(data, cmap='viridis', aspect='auto')\n",
    "plt.colorbar(label='Intensity')\n",
    "plt.title('Heatmap of Random Data')\n",
    "plt.xlabel('X Axis')\n",
    "plt.ylabel('Y Axis')\n",
    "plt.show()"
   ]
  },
  {
   "cell_type": "markdown",
   "id": "534e262d",
   "metadata": {},
   "source": [
    "### Mathematical Functions as Images"
   ]
  },
  {
   "cell_type": "code",
   "execution_count": null,
   "id": "80deff35",
   "metadata": {},
   "outputs": [],
   "source": [
    "# Create meshgrid\n",
    "x = np.linspace(-5, 5, 100)\n",
    "y = np.linspace(-5, 5, 100)\n",
    "X, Y = np.meshgrid(x, y)\n",
    "\n",
    "# Calculate 2D function\n",
    "Z = np.sin(np.sqrt(X**2 + Y**2))\n",
    "\n",
    "# Display as image\n",
    "plt.figure(figsize=(10, 8))\n",
    "plt.imshow(Z, extent=[-5, 5, -5, 5], origin='lower', cmap='RdBu')\n",
    "plt.colorbar(label='Value')\n",
    "plt.title('2D Sine Function: sin(√(x² + y²))')\n",
    "plt.xlabel('X')\n",
    "plt.ylabel('Y')\n",
    "plt.show()"
   ]
  },
  {
   "cell_type": "markdown",
   "id": "17761ec8",
   "metadata": {},
   "source": [
    "### Contour Plots"
   ]
  },
  {
   "cell_type": "code",
   "execution_count": null,
   "id": "433e4a3c",
   "metadata": {},
   "outputs": [],
   "source": [
    "# Using same data from above\n",
    "plt.figure(figsize=(10, 8))\n",
    "contour = plt.contour(X, Y, Z, levels=15, cmap='viridis')\n",
    "plt.clabel(contour, inline=True, fontsize=8)\n",
    "plt.title('Contour Plot')\n",
    "plt.xlabel('X')\n",
    "plt.ylabel('Y')\n",
    "plt.colorbar(contour)\n",
    "plt.show()"
   ]
  },
  {
   "cell_type": "markdown",
   "id": "f3064617",
   "metadata": {},
   "source": [
    "## 3D Plotting\n",
    "\n",
    "### 3D Surface Plots"
   ]
  },
  {
   "cell_type": "code",
   "execution_count": null,
   "id": "b7f10328",
   "metadata": {},
   "outputs": [],
   "source": [
    "from mpl_toolkits.mplot3d import Axes3D\n",
    "\n",
    "# Create data\n",
    "x = np.linspace(-5, 5, 50)\n",
    "y = np.linspace(-5, 5, 50)\n",
    "X, Y = np.meshgrid(x, y)\n",
    "Z = np.sin(np.sqrt(X**2 + Y**2))\n",
    "\n",
    "# Create 3D plot\n",
    "fig = plt.figure(figsize=(12, 8))\n",
    "ax = fig.add_subplot(111, projection='3d')\n",
    "surf = ax.plot_surface(X, Y, Z, cmap='coolwarm')\n",
    "ax.set_xlabel('X')\n",
    "ax.set_ylabel('Y')\n",
    "ax.set_zlabel('Z')\n",
    "ax.set_title('3D Surface Plot')\n",
    "fig.colorbar(surf)\n",
    "plt.show()"
   ]
  },
  {
   "cell_type": "markdown",
   "id": "68997574",
   "metadata": {},
   "source": [
    "## Advanced Techniques"
   ]
  },
  {
   "cell_type": "markdown",
   "id": "d46abef0",
   "metadata": {},
   "source": [
    "#### Animation with NumPy Arrays"
   ]
  },
  {
   "cell_type": "code",
   "execution_count": null,
   "id": "ea60d71d",
   "metadata": {},
   "outputs": [],
   "source": [
    "# Create animated sine wave\n",
    "fig, ax = plt.subplots(figsize=(10, 6))\n",
    "x = np.linspace(0, 2*np.pi, 100)\n",
    "\n",
    "for phase in np.linspace(0, 2*np.pi, 20):\n",
    "    ax.clear()\n",
    "    y = np.sin(x + phase)\n",
    "    ax.plot(x, y, 'b-', linewidth=2)\n",
    "    ax.set_ylim(-1.5, 1.5)\n",
    "    ax.set_title(f'Animated Sine Wave (phase={phase:.2f})')\n",
    "    ax.grid(True)\n",
    "    plt.pause(0.1)\n",
    "\n",
    "plt.show()"
   ]
  },
  {
   "cell_type": "markdown",
   "id": "53ecbf4a",
   "metadata": {},
   "source": [
    "#### Polar Plots"
   ]
  },
  {
   "cell_type": "code",
   "execution_count": null,
   "id": "4f574d94",
   "metadata": {},
   "outputs": [],
   "source": [
    "# Create polar data\n",
    "theta = np.linspace(0, 2*np.pi, 100)\n",
    "r = np.abs(np.sin(3*theta))\n",
    "\n",
    "# Polar plot\n",
    "plt.figure(figsize=(8, 8))\n",
    "ax = plt.subplot(111, projection='polar')\n",
    "ax.plot(theta, r, linewidth=2)\n",
    "ax.set_title('Polar Plot: Rose Curve')\n",
    "plt.show()"
   ]
  },
  {
   "cell_type": "markdown",
   "id": "8b9b7b1c",
   "metadata": {},
   "source": [
    "#### Statistical Error Bars"
   ]
  },
  {
   "cell_type": "code",
   "execution_count": null,
   "id": "a2593090",
   "metadata": {},
   "outputs": [],
   "source": [
    "# Generate data with errors\n",
    "x = np.linspace(0, 10, 10)\n",
    "y = 2*x + 1 + np.random.randn(10)\n",
    "errors = np.random.rand(10) * 2\n",
    "\n",
    "# Plot with error bars\n",
    "plt.figure(figsize=(10, 6))\n",
    "plt.errorbar(x, y, yerr=errors, fmt='o-', capsize=5, capthick=2)\n",
    "plt.xlabel('X')\n",
    "plt.ylabel('Y')\n",
    "plt.title('Data with Error Bars')\n",
    "plt.grid(True, alpha=0.3)\n",
    "plt.show()"
   ]
  },
  {
   "cell_type": "markdown",
   "id": "942a7800",
   "metadata": {},
   "source": [
    "#### Filled Areas"
   ]
  },
  {
   "cell_type": "code",
   "execution_count": null,
   "id": "87697254",
   "metadata": {},
   "outputs": [],
   "source": [
    "x = np.linspace(0, 10, 100)\n",
    "y1 = np.sin(x)\n",
    "y2 = np.sin(x) + 0.5\n",
    "\n",
    "plt.figure(figsize=(10, 6))\n",
    "plt.fill_between(x, y1, y2, alpha=0.3, label='Shaded region')\n",
    "plt.plot(x, y1, 'b-', label='Lower bound')\n",
    "plt.plot(x, y2, 'r-', label='Upper bound')\n",
    "plt.xlabel('X')\n",
    "plt.ylabel('Y')\n",
    "plt.title('Filled Area Between Curves')\n",
    "plt.legend()\n",
    "plt.grid(True, alpha=0.3)\n",
    "plt.show()"
   ]
  },
  {
   "cell_type": "markdown",
   "id": "ef821d54",
   "metadata": {},
   "source": [
    "### Best Practices\n",
    "1. Always use `np.linspace()` or `np.arange()` for smooth curves instead of Python lists\n",
    "2. Leverage NumPy's vectorization for fast calculations on arrays\n",
    "3. Use appropriate figure sizes with `figsize` parameter\n",
    "4. Add labels, titles, and legends for clarity\n",
    "5. Use `plt.tight_layout()` to prevent overlapping elements\n",
    "6. Choose color maps wisely - use sequential for ordered data, diverging for data with a meaningful center\n",
    "7. Save figures with `plt.savefig('filename.png', dpi=300, bbox_inches='tight')`"
   ]
  },
  {
   "cell_type": "markdown",
   "id": "4e29ea5f",
   "metadata": {},
   "source": [
    "### Common NumPy Functions for Plotting\n",
    "\n",
    "| Function | Purpose |\n",
    "|----------|---------|\n",
    "| `np.linspace(start, stop, num)` | Create evenly spaced values |\n",
    "| `np.arange(start, stop, step)` | Create array with step size |\n",
    "| `np.meshgrid(x, y)` | Create 2D coordinate arrays |\n",
    "| `np.random.randn(n)` | Normal distribution |\n",
    "| `np.random.rand(n)` | Uniform distribution [0,1) |\n",
    "| `np.sin()`, `np.cos()`, `np.exp()` | Mathematical functions |\n",
    "| `np.polyfit(x, y, degree)` | Polynomial curve fitting |"
   ]
  },
  {
   "cell_type": "markdown",
   "id": "2610d23f",
   "metadata": {},
   "source": [
    "### Summary\n",
    "\n",
    "Matplotlib and NumPy together provide a powerful toolkit for data visualization. NumPy handles the heavy numerical computations efficiently, while Matplotlib makes the results visually accessible. Practice these examples and experiment with different combinations to master scientific visualization in Python!"
   ]
  }
 ],
 "metadata": {
  "kernelspec": {
   "display_name": "Python 3",
   "language": "python",
   "name": "python3"
  },
  "language_info": {
   "codemirror_mode": {
    "name": "ipython",
    "version": 3
   },
   "file_extension": ".py",
   "mimetype": "text/x-python",
   "name": "python",
   "nbconvert_exporter": "python",
   "pygments_lexer": "ipython3",
   "version": "3.13.2"
  }
 },
 "nbformat": 4,
 "nbformat_minor": 5
}
